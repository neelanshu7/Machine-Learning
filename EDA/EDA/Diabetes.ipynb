{
 "cells": [
  {
   "cell_type": "code",
   "execution_count": 1,
   "id": "36bc5729-c71f-4d67-8e1c-593f42299b00",
   "metadata": {},
   "outputs": [],
   "source": [
    "import pandas as pd\n",
    "import numpy as np\n",
    "import matplotlib.pyplot as plt\n",
    "import seaborn as sns"
   ]
  },
  {
   "cell_type": "code",
   "execution_count": 2,
   "id": "c0a5c3ab-d320-43a7-93d5-863794434d79",
   "metadata": {},
   "outputs": [],
   "source": [
    "ds=pd.read_csv('Diabetes_Missing_Data.csv')"
   ]
  },
  {
   "cell_type": "code",
   "execution_count": 3,
   "id": "b00aba69-6d37-4b30-b041-d8084a7d23b8",
   "metadata": {},
   "outputs": [
    {
     "data": {
      "text/html": [
       "<div>\n",
       "<style scoped>\n",
       "    .dataframe tbody tr th:only-of-type {\n",
       "        vertical-align: middle;\n",
       "    }\n",
       "\n",
       "    .dataframe tbody tr th {\n",
       "        vertical-align: top;\n",
       "    }\n",
       "\n",
       "    .dataframe thead th {\n",
       "        text-align: right;\n",
       "    }\n",
       "</style>\n",
       "<table border=\"1\" class=\"dataframe\">\n",
       "  <thead>\n",
       "    <tr style=\"text-align: right;\">\n",
       "      <th></th>\n",
       "      <th>Pregnant</th>\n",
       "      <th>Glucose</th>\n",
       "      <th>Diastolic_BP</th>\n",
       "      <th>Skin_Fold</th>\n",
       "      <th>Serum_Insulin</th>\n",
       "      <th>BMI</th>\n",
       "      <th>Diabetes_Pedigree</th>\n",
       "      <th>Age</th>\n",
       "      <th>Class</th>\n",
       "    </tr>\n",
       "  </thead>\n",
       "  <tbody>\n",
       "    <tr>\n",
       "      <th>0</th>\n",
       "      <td>6</td>\n",
       "      <td>148.0</td>\n",
       "      <td>72.0</td>\n",
       "      <td>35.0</td>\n",
       "      <td>NaN</td>\n",
       "      <td>33.6</td>\n",
       "      <td>0.627</td>\n",
       "      <td>50</td>\n",
       "      <td>1</td>\n",
       "    </tr>\n",
       "    <tr>\n",
       "      <th>1</th>\n",
       "      <td>1</td>\n",
       "      <td>85.0</td>\n",
       "      <td>66.0</td>\n",
       "      <td>29.0</td>\n",
       "      <td>NaN</td>\n",
       "      <td>26.6</td>\n",
       "      <td>0.351</td>\n",
       "      <td>31</td>\n",
       "      <td>0</td>\n",
       "    </tr>\n",
       "    <tr>\n",
       "      <th>2</th>\n",
       "      <td>8</td>\n",
       "      <td>183.0</td>\n",
       "      <td>64.0</td>\n",
       "      <td>NaN</td>\n",
       "      <td>NaN</td>\n",
       "      <td>23.3</td>\n",
       "      <td>0.672</td>\n",
       "      <td>32</td>\n",
       "      <td>1</td>\n",
       "    </tr>\n",
       "    <tr>\n",
       "      <th>3</th>\n",
       "      <td>1</td>\n",
       "      <td>89.0</td>\n",
       "      <td>66.0</td>\n",
       "      <td>23.0</td>\n",
       "      <td>94.0</td>\n",
       "      <td>28.1</td>\n",
       "      <td>0.167</td>\n",
       "      <td>21</td>\n",
       "      <td>0</td>\n",
       "    </tr>\n",
       "    <tr>\n",
       "      <th>4</th>\n",
       "      <td>0</td>\n",
       "      <td>137.0</td>\n",
       "      <td>40.0</td>\n",
       "      <td>35.0</td>\n",
       "      <td>168.0</td>\n",
       "      <td>43.1</td>\n",
       "      <td>2.288</td>\n",
       "      <td>33</td>\n",
       "      <td>1</td>\n",
       "    </tr>\n",
       "    <tr>\n",
       "      <th>...</th>\n",
       "      <td>...</td>\n",
       "      <td>...</td>\n",
       "      <td>...</td>\n",
       "      <td>...</td>\n",
       "      <td>...</td>\n",
       "      <td>...</td>\n",
       "      <td>...</td>\n",
       "      <td>...</td>\n",
       "      <td>...</td>\n",
       "    </tr>\n",
       "    <tr>\n",
       "      <th>763</th>\n",
       "      <td>10</td>\n",
       "      <td>101.0</td>\n",
       "      <td>76.0</td>\n",
       "      <td>48.0</td>\n",
       "      <td>180.0</td>\n",
       "      <td>32.9</td>\n",
       "      <td>0.171</td>\n",
       "      <td>63</td>\n",
       "      <td>0</td>\n",
       "    </tr>\n",
       "    <tr>\n",
       "      <th>764</th>\n",
       "      <td>2</td>\n",
       "      <td>122.0</td>\n",
       "      <td>70.0</td>\n",
       "      <td>27.0</td>\n",
       "      <td>NaN</td>\n",
       "      <td>36.8</td>\n",
       "      <td>0.340</td>\n",
       "      <td>27</td>\n",
       "      <td>0</td>\n",
       "    </tr>\n",
       "    <tr>\n",
       "      <th>765</th>\n",
       "      <td>5</td>\n",
       "      <td>121.0</td>\n",
       "      <td>72.0</td>\n",
       "      <td>23.0</td>\n",
       "      <td>112.0</td>\n",
       "      <td>26.2</td>\n",
       "      <td>0.245</td>\n",
       "      <td>30</td>\n",
       "      <td>0</td>\n",
       "    </tr>\n",
       "    <tr>\n",
       "      <th>766</th>\n",
       "      <td>1</td>\n",
       "      <td>126.0</td>\n",
       "      <td>60.0</td>\n",
       "      <td>NaN</td>\n",
       "      <td>NaN</td>\n",
       "      <td>30.1</td>\n",
       "      <td>0.349</td>\n",
       "      <td>47</td>\n",
       "      <td>1</td>\n",
       "    </tr>\n",
       "    <tr>\n",
       "      <th>767</th>\n",
       "      <td>1</td>\n",
       "      <td>93.0</td>\n",
       "      <td>70.0</td>\n",
       "      <td>31.0</td>\n",
       "      <td>NaN</td>\n",
       "      <td>30.4</td>\n",
       "      <td>0.315</td>\n",
       "      <td>23</td>\n",
       "      <td>0</td>\n",
       "    </tr>\n",
       "  </tbody>\n",
       "</table>\n",
       "<p>768 rows × 9 columns</p>\n",
       "</div>"
      ],
      "text/plain": [
       "     Pregnant  Glucose  Diastolic_BP  Skin_Fold  Serum_Insulin   BMI  \\\n",
       "0           6    148.0          72.0       35.0            NaN  33.6   \n",
       "1           1     85.0          66.0       29.0            NaN  26.6   \n",
       "2           8    183.0          64.0        NaN            NaN  23.3   \n",
       "3           1     89.0          66.0       23.0           94.0  28.1   \n",
       "4           0    137.0          40.0       35.0          168.0  43.1   \n",
       "..        ...      ...           ...        ...            ...   ...   \n",
       "763        10    101.0          76.0       48.0          180.0  32.9   \n",
       "764         2    122.0          70.0       27.0            NaN  36.8   \n",
       "765         5    121.0          72.0       23.0          112.0  26.2   \n",
       "766         1    126.0          60.0        NaN            NaN  30.1   \n",
       "767         1     93.0          70.0       31.0            NaN  30.4   \n",
       "\n",
       "     Diabetes_Pedigree  Age  Class  \n",
       "0                0.627   50      1  \n",
       "1                0.351   31      0  \n",
       "2                0.672   32      1  \n",
       "3                0.167   21      0  \n",
       "4                2.288   33      1  \n",
       "..                 ...  ...    ...  \n",
       "763              0.171   63      0  \n",
       "764              0.340   27      0  \n",
       "765              0.245   30      0  \n",
       "766              0.349   47      1  \n",
       "767              0.315   23      0  \n",
       "\n",
       "[768 rows x 9 columns]"
      ]
     },
     "execution_count": 3,
     "metadata": {},
     "output_type": "execute_result"
    }
   ],
   "source": [
    "ds"
   ]
  },
  {
   "cell_type": "code",
   "execution_count": 4,
   "id": "780ee9d0-836a-48d5-9d12-6488fdf1e990",
   "metadata": {},
   "outputs": [
    {
     "data": {
      "text/html": [
       "<div>\n",
       "<style scoped>\n",
       "    .dataframe tbody tr th:only-of-type {\n",
       "        vertical-align: middle;\n",
       "    }\n",
       "\n",
       "    .dataframe tbody tr th {\n",
       "        vertical-align: top;\n",
       "    }\n",
       "\n",
       "    .dataframe thead th {\n",
       "        text-align: right;\n",
       "    }\n",
       "</style>\n",
       "<table border=\"1\" class=\"dataframe\">\n",
       "  <thead>\n",
       "    <tr style=\"text-align: right;\">\n",
       "      <th></th>\n",
       "      <th>Pregnant</th>\n",
       "      <th>Glucose</th>\n",
       "      <th>Diastolic_BP</th>\n",
       "      <th>Skin_Fold</th>\n",
       "      <th>Serum_Insulin</th>\n",
       "      <th>BMI</th>\n",
       "      <th>Diabetes_Pedigree</th>\n",
       "      <th>Age</th>\n",
       "      <th>Class</th>\n",
       "    </tr>\n",
       "  </thead>\n",
       "  <tbody>\n",
       "    <tr>\n",
       "      <th>count</th>\n",
       "      <td>768.000000</td>\n",
       "      <td>763.000000</td>\n",
       "      <td>733.000000</td>\n",
       "      <td>541.000000</td>\n",
       "      <td>394.000000</td>\n",
       "      <td>757.000000</td>\n",
       "      <td>768.000000</td>\n",
       "      <td>768.000000</td>\n",
       "      <td>768.000000</td>\n",
       "    </tr>\n",
       "    <tr>\n",
       "      <th>mean</th>\n",
       "      <td>3.845052</td>\n",
       "      <td>121.686763</td>\n",
       "      <td>72.405184</td>\n",
       "      <td>29.153420</td>\n",
       "      <td>155.548223</td>\n",
       "      <td>32.457464</td>\n",
       "      <td>0.471876</td>\n",
       "      <td>33.240885</td>\n",
       "      <td>0.348958</td>\n",
       "    </tr>\n",
       "    <tr>\n",
       "      <th>std</th>\n",
       "      <td>3.369578</td>\n",
       "      <td>30.535641</td>\n",
       "      <td>12.382158</td>\n",
       "      <td>10.476982</td>\n",
       "      <td>118.775855</td>\n",
       "      <td>6.924988</td>\n",
       "      <td>0.331329</td>\n",
       "      <td>11.760232</td>\n",
       "      <td>0.476951</td>\n",
       "    </tr>\n",
       "    <tr>\n",
       "      <th>min</th>\n",
       "      <td>0.000000</td>\n",
       "      <td>44.000000</td>\n",
       "      <td>24.000000</td>\n",
       "      <td>7.000000</td>\n",
       "      <td>14.000000</td>\n",
       "      <td>18.200000</td>\n",
       "      <td>0.078000</td>\n",
       "      <td>21.000000</td>\n",
       "      <td>0.000000</td>\n",
       "    </tr>\n",
       "    <tr>\n",
       "      <th>25%</th>\n",
       "      <td>1.000000</td>\n",
       "      <td>99.000000</td>\n",
       "      <td>64.000000</td>\n",
       "      <td>22.000000</td>\n",
       "      <td>76.250000</td>\n",
       "      <td>27.500000</td>\n",
       "      <td>0.243750</td>\n",
       "      <td>24.000000</td>\n",
       "      <td>0.000000</td>\n",
       "    </tr>\n",
       "    <tr>\n",
       "      <th>50%</th>\n",
       "      <td>3.000000</td>\n",
       "      <td>117.000000</td>\n",
       "      <td>72.000000</td>\n",
       "      <td>29.000000</td>\n",
       "      <td>125.000000</td>\n",
       "      <td>32.300000</td>\n",
       "      <td>0.372500</td>\n",
       "      <td>29.000000</td>\n",
       "      <td>0.000000</td>\n",
       "    </tr>\n",
       "    <tr>\n",
       "      <th>75%</th>\n",
       "      <td>6.000000</td>\n",
       "      <td>141.000000</td>\n",
       "      <td>80.000000</td>\n",
       "      <td>36.000000</td>\n",
       "      <td>190.000000</td>\n",
       "      <td>36.600000</td>\n",
       "      <td>0.626250</td>\n",
       "      <td>41.000000</td>\n",
       "      <td>1.000000</td>\n",
       "    </tr>\n",
       "    <tr>\n",
       "      <th>max</th>\n",
       "      <td>17.000000</td>\n",
       "      <td>199.000000</td>\n",
       "      <td>122.000000</td>\n",
       "      <td>99.000000</td>\n",
       "      <td>846.000000</td>\n",
       "      <td>67.100000</td>\n",
       "      <td>2.420000</td>\n",
       "      <td>81.000000</td>\n",
       "      <td>1.000000</td>\n",
       "    </tr>\n",
       "  </tbody>\n",
       "</table>\n",
       "</div>"
      ],
      "text/plain": [
       "         Pregnant     Glucose  Diastolic_BP   Skin_Fold  Serum_Insulin  \\\n",
       "count  768.000000  763.000000    733.000000  541.000000     394.000000   \n",
       "mean     3.845052  121.686763     72.405184   29.153420     155.548223   \n",
       "std      3.369578   30.535641     12.382158   10.476982     118.775855   \n",
       "min      0.000000   44.000000     24.000000    7.000000      14.000000   \n",
       "25%      1.000000   99.000000     64.000000   22.000000      76.250000   \n",
       "50%      3.000000  117.000000     72.000000   29.000000     125.000000   \n",
       "75%      6.000000  141.000000     80.000000   36.000000     190.000000   \n",
       "max     17.000000  199.000000    122.000000   99.000000     846.000000   \n",
       "\n",
       "              BMI  Diabetes_Pedigree         Age       Class  \n",
       "count  757.000000         768.000000  768.000000  768.000000  \n",
       "mean    32.457464           0.471876   33.240885    0.348958  \n",
       "std      6.924988           0.331329   11.760232    0.476951  \n",
       "min     18.200000           0.078000   21.000000    0.000000  \n",
       "25%     27.500000           0.243750   24.000000    0.000000  \n",
       "50%     32.300000           0.372500   29.000000    0.000000  \n",
       "75%     36.600000           0.626250   41.000000    1.000000  \n",
       "max     67.100000           2.420000   81.000000    1.000000  "
      ]
     },
     "execution_count": 4,
     "metadata": {},
     "output_type": "execute_result"
    }
   ],
   "source": [
    "#Statistical Summary\n",
    "ds.describe()"
   ]
  },
  {
   "cell_type": "code",
   "execution_count": 5,
   "id": "4b4dca69-ae7b-4fb5-af56-5c0caa1ef780",
   "metadata": {},
   "outputs": [
    {
     "data": {
      "text/plain": [
       "Pregnant               0\n",
       "Glucose                5\n",
       "Diastolic_BP          35\n",
       "Skin_Fold            227\n",
       "Serum_Insulin        374\n",
       "BMI                   11\n",
       "Diabetes_Pedigree      0\n",
       "Age                    0\n",
       "Class                  0\n",
       "dtype: int64"
      ]
     },
     "execution_count": 5,
     "metadata": {},
     "output_type": "execute_result"
    }
   ],
   "source": [
    "# Operations \n",
    "# Finding Null Values\n",
    "ds.isnull().sum()"
   ]
  },
  {
   "cell_type": "code",
   "execution_count": 6,
   "id": "32f26a90-2891-436f-9fc7-1754cec520a3",
   "metadata": {},
   "outputs": [
    {
     "data": {
      "text/plain": [
       "<seaborn.axisgrid.FacetGrid at 0x17c7c9fcec0>"
      ]
     },
     "execution_count": 6,
     "metadata": {},
     "output_type": "execute_result"
    },
    {
     "data": {
      "text/plain": [
       "<Figure size 1000x600 with 0 Axes>"
      ]
     },
     "metadata": {},
     "output_type": "display_data"
    },
    {
     "data": {
      "image/png": "[encoded data removed]",
      "text/plain": [
       "<Figure size 834.875x500 with 1 Axes>"
      ]
     },
     "metadata": {},
     "output_type": "display_data"
    }
   ],
   "source": [
    "plt.figure(figsize=(10,6))\n",
    "sns.displot(\n",
    "    data=ds.isna().melt(value_name=\"missing\"),\n",
    "    y=\"variable\",\n",
    "    hue=\"missing\",\n",
    "    multiple=\"fill\",\n",
    "    aspect=1.5\n",
    ")"
   ]
  },
  {
   "cell_type": "code",
   "execution_count": 7,
   "id": "0e1b3324-929e-4418-b27b-ecca368dff1c",
   "metadata": {},
   "outputs": [],
   "source": [
    "# Filling the missing values\n",
    "\n",
    "# Glucose - Repalcing with min value\n",
    "ds['Glucose']=ds['Glucose'].fillna(ds['Glucose'].min())\n",
    "# Diastolic_BP - Repalcing with max value\n",
    "ds['Diastolic_BP']=ds['Diastolic_BP'].fillna(ds['Diastolic_BP'].max())\n",
    "# Skin_Fold - Repalcing with mean value\n",
    "ds['Skin_Fold']=ds['Skin_Fold'].fillna(ds['Skin_Fold'].mean())\n",
    "# Serum_Insulin - Repalcing with median value\n",
    "ds['Serum_Insulin']=ds['Serum_Insulin'].fillna(ds['Serum_Insulin'].median())\n",
    "# BMI - Repalcing with standard deviation value\n",
    "ds['BMI']=ds['BMI'].fillna(ds['BMI'].std())"
   ]
  },
  {
   "cell_type": "code",
   "execution_count": 8,
   "id": "ebd3822c-3f08-42ec-ac21-eeb23c38ff3b",
   "metadata": {},
   "outputs": [
    {
     "data": {
      "text/html": [
       "<div>\n",
       "<style scoped>\n",
       "    .dataframe tbody tr th:only-of-type {\n",
       "        vertical-align: middle;\n",
       "    }\n",
       "\n",
       "    .dataframe tbody tr th {\n",
       "        vertical-align: top;\n",
       "    }\n",
       "\n",
       "    .dataframe thead th {\n",
       "        text-align: right;\n",
       "    }\n",
       "</style>\n",
       "<table border=\"1\" class=\"dataframe\">\n",
       "  <thead>\n",
       "    <tr style=\"text-align: right;\">\n",
       "      <th></th>\n",
       "      <th>Pregnant</th>\n",
       "      <th>Glucose</th>\n",
       "      <th>Diastolic_BP</th>\n",
       "      <th>Skin_Fold</th>\n",
       "      <th>Serum_Insulin</th>\n",
       "      <th>BMI</th>\n",
       "      <th>Diabetes_Pedigree</th>\n",
       "      <th>Age</th>\n",
       "      <th>Class</th>\n",
       "    </tr>\n",
       "  </thead>\n",
       "  <tbody>\n",
       "    <tr>\n",
       "      <th>0</th>\n",
       "      <td>6</td>\n",
       "      <td>148.0</td>\n",
       "      <td>72.0</td>\n",
       "      <td>35.00000</td>\n",
       "      <td>125.0</td>\n",
       "      <td>33.6</td>\n",
       "      <td>0.627</td>\n",
       "      <td>50</td>\n",
       "      <td>1</td>\n",
       "    </tr>\n",
       "    <tr>\n",
       "      <th>1</th>\n",
       "      <td>1</td>\n",
       "      <td>85.0</td>\n",
       "      <td>66.0</td>\n",
       "      <td>29.00000</td>\n",
       "      <td>125.0</td>\n",
       "      <td>26.6</td>\n",
       "      <td>0.351</td>\n",
       "      <td>31</td>\n",
       "      <td>0</td>\n",
       "    </tr>\n",
       "    <tr>\n",
       "      <th>2</th>\n",
       "      <td>8</td>\n",
       "      <td>183.0</td>\n",
       "      <td>64.0</td>\n",
       "      <td>29.15342</td>\n",
       "      <td>125.0</td>\n",
       "      <td>23.3</td>\n",
       "      <td>0.672</td>\n",
       "      <td>32</td>\n",
       "      <td>1</td>\n",
       "    </tr>\n",
       "    <tr>\n",
       "      <th>3</th>\n",
       "      <td>1</td>\n",
       "      <td>89.0</td>\n",
       "      <td>66.0</td>\n",
       "      <td>23.00000</td>\n",
       "      <td>94.0</td>\n",
       "      <td>28.1</td>\n",
       "      <td>0.167</td>\n",
       "      <td>21</td>\n",
       "      <td>0</td>\n",
       "    </tr>\n",
       "    <tr>\n",
       "      <th>4</th>\n",
       "      <td>0</td>\n",
       "      <td>137.0</td>\n",
       "      <td>40.0</td>\n",
       "      <td>35.00000</td>\n",
       "      <td>168.0</td>\n",
       "      <td>43.1</td>\n",
       "      <td>2.288</td>\n",
       "      <td>33</td>\n",
       "      <td>1</td>\n",
       "    </tr>\n",
       "    <tr>\n",
       "      <th>...</th>\n",
       "      <td>...</td>\n",
       "      <td>...</td>\n",
       "      <td>...</td>\n",
       "      <td>...</td>\n",
       "      <td>...</td>\n",
       "      <td>...</td>\n",
       "      <td>...</td>\n",
       "      <td>...</td>\n",
       "      <td>...</td>\n",
       "    </tr>\n",
       "    <tr>\n",
       "      <th>763</th>\n",
       "      <td>10</td>\n",
       "      <td>101.0</td>\n",
       "      <td>76.0</td>\n",
       "      <td>48.00000</td>\n",
       "      <td>180.0</td>\n",
       "      <td>32.9</td>\n",
       "      <td>0.171</td>\n",
       "      <td>63</td>\n",
       "      <td>0</td>\n",
       "    </tr>\n",
       "    <tr>\n",
       "      <th>764</th>\n",
       "      <td>2</td>\n",
       "      <td>122.0</td>\n",
       "      <td>70.0</td>\n",
       "      <td>27.00000</td>\n",
       "      <td>125.0</td>\n",
       "      <td>36.8</td>\n",
       "      <td>0.340</td>\n",
       "      <td>27</td>\n",
       "      <td>0</td>\n",
       "    </tr>\n",
       "    <tr>\n",
       "      <th>765</th>\n",
       "      <td>5</td>\n",
       "      <td>121.0</td>\n",
       "      <td>72.0</td>\n",
       "      <td>23.00000</td>\n",
       "      <td>112.0</td>\n",
       "      <td>26.2</td>\n",
       "      <td>0.245</td>\n",
       "      <td>30</td>\n",
       "      <td>0</td>\n",
       "    </tr>\n",
       "    <tr>\n",
       "      <th>766</th>\n",
       "      <td>1</td>\n",
       "      <td>126.0</td>\n",
       "      <td>60.0</td>\n",
       "      <td>29.15342</td>\n",
       "      <td>125.0</td>\n",
       "      <td>30.1</td>\n",
       "      <td>0.349</td>\n",
       "      <td>47</td>\n",
       "      <td>1</td>\n",
       "    </tr>\n",
       "    <tr>\n",
       "      <th>767</th>\n",
       "      <td>1</td>\n",
       "      <td>93.0</td>\n",
       "      <td>70.0</td>\n",
       "      <td>31.00000</td>\n",
       "      <td>125.0</td>\n",
       "      <td>30.4</td>\n",
       "      <td>0.315</td>\n",
       "      <td>23</td>\n",
       "      <td>0</td>\n",
       "    </tr>\n",
       "  </tbody>\n",
       "</table>\n",
       "<p>768 rows × 9 columns</p>\n",
       "</div>"
      ],
      "text/plain": [
       "     Pregnant  Glucose  Diastolic_BP  Skin_Fold  Serum_Insulin   BMI  \\\n",
       "0           6    148.0          72.0   35.00000          125.0  33.6   \n",
       "1           1     85.0          66.0   29.00000          125.0  26.6   \n",
       "2           8    183.0          64.0   29.15342          125.0  23.3   \n",
       "3           1     89.0          66.0   23.00000           94.0  28.1   \n",
       "4           0    137.0          40.0   35.00000          168.0  43.1   \n",
       "..        ...      ...           ...        ...            ...   ...   \n",
       "763        10    101.0          76.0   48.00000          180.0  32.9   \n",
       "764         2    122.0          70.0   27.00000          125.0  36.8   \n",
       "765         5    121.0          72.0   23.00000          112.0  26.2   \n",
       "766         1    126.0          60.0   29.15342          125.0  30.1   \n",
       "767         1     93.0          70.0   31.00000          125.0  30.4   \n",
       "\n",
       "     Diabetes_Pedigree  Age  Class  \n",
       "0                0.627   50      1  \n",
       "1                0.351   31      0  \n",
       "2                0.672   32      1  \n",
       "3                0.167   21      0  \n",
       "4                2.288   33      1  \n",
       "..                 ...  ...    ...  \n",
       "763              0.171   63      0  \n",
       "764              0.340   27      0  \n",
       "765              0.245   30      0  \n",
       "766              0.349   47      1  \n",
       "767              0.315   23      0  \n",
       "\n",
       "[768 rows x 9 columns]"
      ]
     },
     "execution_count": 8,
     "metadata": {},
     "output_type": "execute_result"
    }
   ],
   "source": [
    "ds"
   ]
  },
  {
   "cell_type": "code",
   "execution_count": 9,
   "id": "efa2c5f2-ea7f-43ba-a469-7e7278fadecd",
   "metadata": {},
   "outputs": [
    {
     "data": {
      "text/plain": [
       "Pregnant             0\n",
       "Glucose              0\n",
       "Diastolic_BP         0\n",
       "Skin_Fold            0\n",
       "Serum_Insulin        0\n",
       "BMI                  0\n",
       "Diabetes_Pedigree    0\n",
       "Age                  0\n",
       "Class                0\n",
       "dtype: int64"
      ]
     },
     "execution_count": 9,
     "metadata": {},
     "output_type": "execute_result"
    }
   ],
   "source": [
    "ds.isnull().sum()"
   ]
  },
  {
   "cell_type": "code",
   "execution_count": 10,
   "id": "a6c86f4c-d679-4bfa-830c-bdeef4bea658",
   "metadata": {},
   "outputs": [
    {
     "data": {
      "text/plain": [
       "<seaborn.axisgrid.FacetGrid at 0x17c7ca7d6d0>"
      ]
     },
     "execution_count": 10,
     "metadata": {},
     "output_type": "execute_result"
    },
    {
     "data": {
      "text/plain": [
       "<Figure size 1000x600 with 0 Axes>"
      ]
     },
     "metadata": {},
     "output_type": "display_data"
    },
    {
     "data": {
      "image/png": "[encoded data removed]",
      "text/plain": [
       "<Figure size 834.875x500 with 1 Axes>"
      ]
     },
     "metadata": {},
     "output_type": "display_data"
    }
   ],
   "source": [
    "plt.figure(figsize=(10,6))\n",
    "sns.displot(\n",
    "    data=ds.isna().melt(value_name=\"missing\"),\n",
    "    y=\"variable\",\n",
    "    hue=\"missing\",\n",
    "    multiple=\"fill\",\n",
    "    aspect=1.5\n",
    ")"
   ]
  },
  {
   "cell_type": "code",
   "execution_count": 11,
   "id": "9e69d1ce-ee93-49d0-b1ce-441c1bb8f25b",
   "metadata": {},
   "outputs": [],
   "source": [
    "# Correlation between Pregnant and Glucose\n",
    "a=ds['Glucose'].to_numpy()\n",
    "b=ds['Diastolic_BP'].to_numpy()"
   ]
  },
  {
   "cell_type": "code",
   "execution_count": 12,
   "id": "07501873-7e9a-496a-bca1-ee2cbcf17039",
   "metadata": {},
   "outputs": [
    {
     "name": "stdout",
     "output_type": "stream",
     "text": [
      "[148.  85. 183.  89. 137. 116.  78. 115. 197. 125. 110. 168. 139. 189.\n",
      " 166. 100. 118. 107. 103. 115. 126.  99. 196. 119. 143. 125. 147.  97.\n",
      " 145. 117. 109. 158.  88.  92. 122. 103. 138. 102.  90. 111. 180. 133.\n",
      " 106. 171. 159. 180. 146.  71. 103. 105. 103. 101.  88. 176. 150.  73.\n",
      " 187. 100. 146. 105.  84. 133.  44. 141. 114.  99. 109. 109.  95. 146.\n",
      " 100. 139. 126. 129.  79.  44.  62.  95. 131. 112. 113.  74.  83. 101.\n",
      " 137. 110. 106. 100. 136. 107.  80. 123.  81. 134. 142. 144.  92.  71.\n",
      "  93. 122. 163. 151. 125.  81.  85. 126.  96. 144.  83.  95. 171. 155.\n",
      "  89.  76. 160. 146. 124.  78.  97.  99. 162. 111. 107. 132. 113.  88.\n",
      " 120. 118. 117. 105. 173. 122. 170.  84.  96. 125. 100.  93. 129. 105.\n",
      " 128. 106. 108. 108. 154. 102.  57. 106. 147.  90. 136. 114. 156. 153.\n",
      " 188. 152.  99. 109.  88. 163. 151. 102. 114. 100. 131. 104. 148. 120.\n",
      " 110. 111. 102. 134.  87.  79.  75. 179.  85. 129. 143. 130.  87. 119.\n",
      "  44.  73. 141. 194. 181. 128. 109. 139. 111. 123. 159. 135.  85. 158.\n",
      " 105. 107. 109. 148. 113. 138. 108.  99. 103. 111. 196. 162.  96. 184.\n",
      "  81. 147. 179. 140. 112. 151. 109. 125.  85. 112. 177. 158. 119. 142.\n",
      " 100.  87. 101. 162. 197. 117. 142. 134.  79. 122.  74. 171. 181. 179.\n",
      " 164. 104.  91.  91. 139. 119. 146. 184. 122. 165. 124. 111. 106. 129.\n",
      "  90.  86.  92. 113. 111. 114. 193. 155. 191. 141.  95. 142. 123.  96.\n",
      " 138. 128. 102. 146. 101. 108. 122.  71. 106. 100. 106. 104. 114. 108.\n",
      " 146. 129. 133. 161. 108. 136. 155. 119.  96. 108.  78. 107. 128. 128.\n",
      " 161. 151. 146. 126. 100. 112. 167. 144.  77. 115. 150. 120. 161. 137.\n",
      " 128. 124.  80. 106. 155. 113. 109. 112.  99. 182. 115. 194. 129. 112.\n",
      " 124. 152. 112. 157. 122. 179. 102. 105. 118.  87. 180. 106.  95. 165.\n",
      " 117. 115. 152. 178. 130.  95.  44. 122.  95. 126. 139. 116.  99.  44.\n",
      "  92. 137.  61.  90.  90. 165. 125. 129.  88. 196. 189. 158. 103. 146.\n",
      " 147.  99. 124. 101.  81. 133. 173. 118.  84. 105. 122. 140.  98.  87.\n",
      " 156.  93. 107. 105. 109.  90. 125. 119. 116. 105. 144. 100. 100. 166.\n",
      " 131. 116. 158. 127.  96. 131.  82. 193.  95. 137. 136.  72. 168. 123.\n",
      " 115. 101. 197. 172. 102. 112. 143. 143. 138. 173.  97. 144.  83. 129.\n",
      " 119.  94. 102. 115. 151. 184.  94. 181. 135.  95.  99.  89.  80. 139.\n",
      "  90. 141. 140. 147.  97. 107. 189.  83. 117. 108. 117. 180. 100.  95.\n",
      " 104. 120.  82. 134.  91. 119. 100. 175. 135.  86. 148. 134. 120.  71.\n",
      "  74.  88. 115. 124.  74.  97. 120. 154. 144. 137. 119. 136. 114. 137.\n",
      " 105. 114. 126. 132. 158. 123.  85.  84. 145. 135. 139. 173.  99. 194.\n",
      "  83.  89.  99. 125.  80. 166. 110.  81. 195. 154. 117.  84.  44.  94.\n",
      "  96.  75. 180. 130.  84. 120.  84. 139.  91.  91.  99. 163. 145. 125.\n",
      "  76. 129.  68. 124. 114. 130. 125.  87.  97. 116. 117. 111. 122. 107.\n",
      "  86.  91.  77. 132. 105.  57. 127. 129. 100. 128.  90.  84.  88. 186.\n",
      " 187. 131. 164. 189. 116.  84. 114.  88.  84. 124.  97. 110. 103.  85.\n",
      " 125. 198.  87.  99.  91.  95.  99.  92. 154. 121.  78. 130. 111.  98.\n",
      " 143. 119. 108. 118. 133. 197. 151. 109. 121. 100. 124.  93. 143. 103.\n",
      " 176.  73. 111. 112. 132.  82. 123. 188.  67.  89. 173. 109. 108.  96.\n",
      " 124. 150. 183. 124. 181.  92. 152. 111. 106. 174. 168. 105. 138. 106.\n",
      " 117.  68. 112. 119. 112.  92. 183.  94. 108.  90. 125. 132. 128.  94.\n",
      " 114. 102. 111. 128.  92. 104. 104.  94.  97. 100. 102. 128. 147.  90.\n",
      " 103. 157. 167. 179. 136. 107.  91. 117. 123. 120. 106. 155. 101. 120.\n",
      " 127.  80. 162. 199. 167. 145. 115. 112. 145. 111.  98. 154. 165.  99.\n",
      "  68. 123.  91. 195. 156.  93. 121. 101.  56. 162.  95. 125. 136. 129.\n",
      " 130. 107. 140. 144. 107. 158. 121. 129.  90. 142. 169.  99. 127. 118.\n",
      " 122. 125. 168. 129. 110.  80. 115. 127. 164.  93. 158. 126. 129. 134.\n",
      " 102. 187. 173.  94. 108.  97.  83. 114. 149. 117. 111. 112. 116. 141.\n",
      " 175.  92. 130. 120. 174. 106. 105.  95. 126.  65.  99. 102. 120. 102.\n",
      " 109. 140. 153. 100. 147.  81. 187. 162. 136. 121. 108. 181. 154. 128.\n",
      " 137. 123. 106. 190.  88. 170.  89. 101. 122. 121. 126.  93.]\n",
      "<class 'numpy.ndarray'>\n"
     ]
    }
   ],
   "source": [
    "print(a)\n",
    "print(type(a))"
   ]
  },
  {
   "cell_type": "code",
   "execution_count": 13,
   "id": "71fe1bd7-6427-48f5-88b1-67ad8d0937c8",
   "metadata": {},
   "outputs": [
    {
     "name": "stdout",
     "output_type": "stream",
     "text": [
      "[ 72.  66.  64.  66.  40.  74.  50. 122.  70.  96.  92.  74.  80.  60.\n",
      "  72. 122.  84.  74.  30.  70.  88.  84.  90.  80.  94.  70.  76.  66.\n",
      "  82.  92.  75.  76.  58.  92.  78.  60.  76.  76.  68.  72.  64.  84.\n",
      "  92. 110.  64.  66.  56.  70.  66. 122.  80.  50.  66.  90.  66.  50.\n",
      "  68.  88.  82.  64. 122.  72.  62.  58.  66.  74.  88.  92.  66.  85.\n",
      "  66.  64.  90.  86.  75.  48.  78.  72. 122.  66.  44. 122.  78.  65.\n",
      " 108.  74.  72.  68.  70.  68.  55.  80.  78.  72.  82.  72.  62.  48.\n",
      "  50.  90.  72.  60.  96.  72.  65.  56. 122.  58.  58.  85.  72.  62.\n",
      "  76.  62.  54.  92.  74.  48.  60.  76.  76.  64.  74.  80.  76.  30.\n",
      "  70.  58.  88.  84.  70.  56.  64.  74.  68.  60.  70.  60.  80.  72.\n",
      "  78.  82.  52.  66.  62.  75.  80.  64.  78.  70.  74.  65.  86.  82.\n",
      "  78.  88.  52.  56.  74.  72.  90.  74.  80.  64.  88.  74.  66.  68.\n",
      "  66.  90.  82.  70. 122.  60.  64.  72.  78. 110.  78.  82.  80.  64.\n",
      "  74.  60.  74.  68.  68.  98.  76.  80.  62.  70.  66. 122.  55.  84.\n",
      "  58.  62.  64.  60.  80.  82.  68.  70.  72.  72.  76. 104.  64.  84.\n",
      "  60.  85.  95.  65.  82.  70.  62.  68.  74.  66.  60.  90. 122.  60.\n",
      "  66.  78.  76.  52.  70.  80.  86.  80.  80.  68.  68.  72.  84.  90.\n",
      "  84.  76.  64.  70.  54.  50.  76.  85.  68.  90.  70.  86.  52.  84.\n",
      "  80.  68.  62.  64.  56.  68.  50.  76.  68. 122.  70.  80.  62.  74.\n",
      " 122.  64.  52. 122.  86.  62.  78.  78.  70.  70.  60.  64.  74.  62.\n",
      "  70.  76.  88.  86.  80.  74.  84.  86.  56.  72.  88.  62.  78.  48.\n",
      "  50.  62.  70.  84.  78.  72. 122.  58.  82.  98.  76.  76.  68.  68.\n",
      "  68.  68.  66.  70.  74.  50.  80.  68.  80.  74.  66.  78.  60.  74.\n",
      "  70.  90.  75.  72.  64.  70.  86.  70.  72.  58. 122.  80.  60.  76.\n",
      " 122.  76.  78.  84.  70.  74.  68.  86.  72.  88.  46. 122.  62.  80.\n",
      "  80.  84.  82.  62.  78.  88.  50. 122.  74.  76.  64.  70. 108.  78.\n",
      "  74.  54.  72.  64.  86. 102.  82.  64.  64.  58.  52.  82.  82.  60.\n",
      "  75. 100.  72.  68.  60.  62.  70.  54.  74. 100.  82.  68.  66.  76.\n",
      "  64.  72.  78.  58.  56.  66.  70.  70.  64.  61.  84.  78.  64.  48.\n",
      "  72.  62.  74.  68.  90.  72.  84.  74.  60.  84.  68.  82.  68.  64.\n",
      "  88.  68.  64.  64.  78.  78. 122.  64.  94.  82. 122.  74.  74.  75.\n",
      "  68. 122.  85.  75.  70.  88. 104.  66.  64.  70.  62.  78.  72.  80.\n",
      "  64.  74.  64.  70.  68. 122.  54.  62.  54.  68.  84.  74.  72.  62.\n",
      "  70.  78.  98.  56.  52.  64. 122.  78.  82.  70.  66.  90.  64.  84.\n",
      "  80.  76.  74.  86.  70.  88.  58.  82. 122.  68.  62.  78.  72.  80.\n",
      "  65.  90.  68.  70. 122.  74.  68.  72.  70.  74.  90.  72.  68.  64.\n",
      "  78.  82.  90.  60.  50.  78.  72.  62.  68.  62.  54.  70.  88.  86.\n",
      "  60.  90.  70.  80. 122.  70.  58.  60.  64.  74.  66.  65.  60.  76.\n",
      "  66. 122.  56. 122.  90.  60.  80.  92.  74.  72.  85.  90.  78.  90.\n",
      "  76.  68.  82. 110.  70.  68.  88.  62.  64.  70.  70.  76.  68.  74.\n",
      "  76.  66.  68.  60.  80.  54.  72.  62.  72.  66.  70.  96.  58.  60.\n",
      "  86.  44.  44.  80.  68.  70.  90.  60.  78.  76.  76.  56.  66.  66.\n",
      "  86. 122.  84.  78.  80.  52.  72.  82.  76.  24.  74.  38.  88. 122.\n",
      "  74.  78. 122.  60.  78.  62.  82.  62.  54.  58.  88.  80.  74.  72.\n",
      "  96.  62.  82. 122.  86.  76.  94.  70.  64.  88.  68.  78.  80.  65.\n",
      "  64.  78.  60.  82.  62.  72.  74.  76.  76.  74.  86.  70.  80. 122.\n",
      "  72.  74.  74.  50.  84.  60.  54.  60.  74.  54.  70.  52.  58.  80.\n",
      " 106.  82.  84.  76. 106.  80.  60.  80.  82.  70.  58.  78.  68.  58.\n",
      " 106. 100.  82.  70.  86.  60.  52.  58.  56.  76.  64.  80.  82.  74.\n",
      "  64.  50.  74.  82.  80. 114.  70.  68.  60.  90.  74. 122.  88.  70.\n",
      "  76.  78.  88. 122.  76.  80. 122.  46.  78.  64.  64.  78.  62.  58.\n",
      "  74.  50.  78.  72.  60.  76.  86.  66.  68.  86.  94.  78.  78.  84.\n",
      "  88.  52.  78.  86.  88.  56.  75.  60.  86.  72.  60.  74.  80.  44.\n",
      "  58.  94.  88.  84.  94.  74.  70.  62.  70.  78.  62.  88.  78.  88.\n",
      "  90.  72.  76.  92.  58.  74.  62.  76.  70.  72.  60.  70.]\n",
      "<class 'numpy.ndarray'>\n"
     ]
    }
   ],
   "source": [
    "print(b)\n",
    "print(type(b))"
   ]
  },
  {
   "cell_type": "code",
   "execution_count": 14,
   "id": "c2de624d-b887-49a5-a94c-8829e659f769",
   "metadata": {},
   "outputs": [
    {
     "name": "stdout",
     "output_type": "stream",
     "text": [
      "[[1.         0.15197748]\n",
      " [0.15197748 1.        ]]\n"
     ]
    }
   ],
   "source": [
    "x=np.corrcoef(a,b)\n",
    "print(x)"
   ]
  },
  {
   "cell_type": "code",
   "execution_count": 15,
   "id": "c02b640a-9def-46be-bc4d-2c2011e362cc",
   "metadata": {},
   "outputs": [
    {
     "data": {
      "image/png": "[encoded data removed]",
      "text/plain": [
       "<Figure size 640x480 with 1 Axes>"
      ]
     },
     "metadata": {},
     "output_type": "display_data"
    }
   ],
   "source": [
    "plt.scatter(a,b)\n",
    "plt.show()"
   ]
  },
  {
   "cell_type": "code",
   "execution_count": 16,
   "id": "bc921d7c-f91f-4f8d-825f-3e062b492767",
   "metadata": {},
   "outputs": [],
   "source": [
    "# Correlation between Diastolic_BP and Skin_Fold\n",
    "a=ds['Skin_Fold'].to_numpy()\n",
    "b=ds['Serum_Insulin'].to_numpy()"
   ]
  },
  {
   "cell_type": "code",
   "execution_count": 17,
   "id": "50b2fdf1-e059-473d-830a-cca052fcb5fc",
   "metadata": {},
   "outputs": [
    {
     "name": "stdout",
     "output_type": "stream",
     "text": [
      "[[1.         0.15467816]\n",
      " [0.15467816 1.        ]]\n"
     ]
    }
   ],
   "source": [
    "x=np.corrcoef(a,b)\n",
    "print(x)"
   ]
  },
  {
   "cell_type": "code",
   "execution_count": 18,
   "id": "f1c0793c-78d3-4476-9b37-f52c5473eabc",
   "metadata": {},
   "outputs": [
    {
     "data": {
      "image/png": "[encoded data removed]",
      "text/plain": [
       "<Figure size 640x480 with 1 Axes>"
      ]
     },
     "metadata": {},
     "output_type": "display_data"
    }
   ],
   "source": [
    "plt.scatter(a,b)\n",
    "plt.show()"
   ]
  },
  {
   "cell_type": "code",
   "execution_count": 19,
   "id": "5f9e77ec-6732-45fe-8dae-b055dfb22a93",
   "metadata": {},
   "outputs": [],
   "source": [
    "# Correlation between Diastolic_BP and Skin_Fold\n",
    "a=ds['BMI'].to_numpy()\n",
    "b=ds['Age'].to_numpy()"
   ]
  },
  {
   "cell_type": "code",
   "execution_count": 20,
   "id": "7d5d2fd2-cdc2-40ac-88c5-7d0d09ffc028",
   "metadata": {},
   "outputs": [
    {
     "name": "stdout",
     "output_type": "stream",
     "text": [
      "[[1.         0.03488856]\n",
      " [0.03488856 1.        ]]\n"
     ]
    }
   ],
   "source": [
    "x=np.corrcoef(a,b)\n",
    "print(x)"
   ]
  },
  {
   "cell_type": "code",
   "execution_count": 21,
   "id": "68a92bc9-e587-4ece-8f2f-c0127d09089e",
   "metadata": {},
   "outputs": [
    {
     "data": {
      "image/png": "[encoded data removed]",
      "text/plain": [
       "<Figure size 640x480 with 1 Axes>"
      ]
     },
     "metadata": {},
     "output_type": "display_data"
    }
   ],
   "source": [
    "plt.scatter(a,b)\n",
    "plt.show()"
   ]
  },
  {
   "cell_type": "code",
   "execution_count": 22,
   "id": "a8ddd87c-e4bf-4b79-8531-ff14dbed988b",
   "metadata": {},
   "outputs": [
    {
     "data": {
      "text/plain": [
       "' Work to do on Lab 0\\nCheck the datatype 1\\nRenaming the column 1\\nDroping anty unwanted column or row 0 \\nHandelling Missing values 1\\nDetecting Outliers 0 \\nPlots 0\\nVector Encoding 0\\nStatistical Summary 1\\n\\nCheck the datatype 1\\nRenaming the column 1\\nDroping any unwanted column or row 1\\nHandelling Missing values 1\\nDetecting Outliers 0\\nPlots 0\\nVector Encoding 0\\nStatistical Summary 1\\nCheck for Duplicates 0\\nRemoving Special Characters 0\\n\\n'"
      ]
     },
     "execution_count": 22,
     "metadata": {},
     "output_type": "execute_result"
    }
   ],
   "source": [
    "\"\"\" Work to do on Lab 0\n",
    "Check the datatype 1\n",
    "Renaming the column 1\n",
    "Droping anty unwanted column or row 0 \n",
    "Handelling Missing values 1\n",
    "Statistical Summary 1\n",
    "Plots 1\n",
    "Detecting Outliers 0 \n",
    "Vector Encoding 0\n",
    "\n",
    "Check the datatype 1\n",
    "Renaming the column 1\n",
    "Droping any unwanted column or row 1\n",
    "Handelling Missing values 1\n",
    "Plots 1\n",
    "Statistical Summary 1\n",
    "Check for Duplicates 1\n",
    "Removing Special Characters 1\n",
    "Detecting Outliers 0\n",
    "Vector Encoding 0\n",
    "\"\"\""
   ]
  },
  {
   "cell_type": "code",
   "execution_count": 23,
   "id": "88ae7cdf-fd6d-4c17-b742-1d32a4cf51c9",
   "metadata": {},
   "outputs": [
    {
     "name": "stdout",
     "output_type": "stream",
     "text": [
      "Index(['Pregnant', 'Glucose', 'Diastolic_BP', 'Skin_Fold', 'Serum_Insulin',\n",
      "       'BMI', 'Diabetes_Pedigree', 'Age', 'Class'],\n",
      "      dtype='object')\n"
     ]
    }
   ],
   "source": [
    "# Renaming the column\n",
    "print(ds.columns)"
   ]
  },
  {
   "cell_type": "code",
   "execution_count": 24,
   "id": "16470de8-9460-467c-a483-48d118621560",
   "metadata": {},
   "outputs": [
    {
     "name": "stdout",
     "output_type": "stream",
     "text": [
      "Index(['Pregnant', 'Glucose', 'Diastolic_BP', 'Skin_Fold', 'Insulin', 'BMI',\n",
      "       'Diabetes_Pedigree', 'Age', 'Class'],\n",
      "      dtype='object')\n"
     ]
    }
   ],
   "source": [
    "ds = ds.rename(columns={ds.columns[4]: 'Insulin'})\n",
    "print(ds.columns)"
   ]
  },
  {
   "cell_type": "code",
   "execution_count": 25,
   "id": "c335d266-c052-4b71-9fc9-422512637ead",
   "metadata": {},
   "outputs": [
    {
     "name": "stdout",
     "output_type": "stream",
     "text": [
      "Index(['Pregnant', 'Glucose', 'Diastolic_BP', 'Skin_Fold', 'Insulin', 'BMI',\n",
      "       'Diabetes_Pedigree', 'Age', 'Class'],\n",
      "      dtype='object')\n"
     ]
    }
   ],
   "source": [
    "# Dropping any unwanted column or row\n",
    "print(ds.columns)"
   ]
  },
  {
   "cell_type": "code",
   "execution_count": 26,
   "id": "3386d8d2-d2b5-4e70-bf05-1a614c5d373e",
   "metadata": {},
   "outputs": [
    {
     "name": "stdout",
     "output_type": "stream",
     "text": [
      "Index(['Pregnant', 'Glucose', 'Diastolic_BP', 'Skin_Fold', 'Insulin', 'BMI',\n",
      "       'Diabetes_Pedigree', 'Age'],\n",
      "      dtype='object')\n"
     ]
    }
   ],
   "source": [
    "ds=ds.drop('Class',axis=1)\n",
    "print(ds.columns)"
   ]
  },
  {
   "cell_type": "code",
   "execution_count": 28,
   "id": "d2bd9fa2-e03d-48ba-a5c8-b76df31c6f3c",
   "metadata": {},
   "outputs": [
    {
     "name": "stdout",
     "output_type": "stream",
     "text": [
      "   Pregnant  Glucose  Diastolic_BP  Skin_Fold  Insulin   BMI  \\\n",
      "0         6    148.0          72.0   35.00000    125.0  33.6   \n",
      "1         1     85.0          66.0   29.00000    125.0  26.6   \n",
      "2         8    183.0          64.0   29.15342    125.0  23.3   \n",
      "3         1     89.0          66.0   23.00000     94.0  28.1   \n",
      "4         0    137.0          40.0   35.00000    168.0  43.1   \n",
      "\n",
      "   Diabetes_Pedigree  Age  \n",
      "0              0.627   50  \n",
      "1              0.351   31  \n",
      "2              0.672   32  \n",
      "3              0.167   21  \n",
      "4              2.288   33  \n"
     ]
    }
   ],
   "source": [
    "print(ds.head(5))"
   ]
  },
  {
   "cell_type": "code",
   "execution_count": 29,
   "id": "7ad5785e-3165-4e89-ac9b-de517fb6d710",
   "metadata": {},
   "outputs": [
    {
     "name": "stdout",
     "output_type": "stream",
     "text": [
      "     Pregnant  Glucose  Diastolic_BP  Skin_Fold  Insulin   BMI  \\\n",
      "763        10    101.0          76.0   48.00000    180.0  32.9   \n",
      "764         2    122.0          70.0   27.00000    125.0  36.8   \n",
      "765         5    121.0          72.0   23.00000    112.0  26.2   \n",
      "766         1    126.0          60.0   29.15342    125.0  30.1   \n",
      "767         1     93.0          70.0   31.00000    125.0  30.4   \n",
      "\n",
      "     Diabetes_Pedigree  Age  \n",
      "763              0.171   63  \n",
      "764              0.340   27  \n",
      "765              0.245   30  \n",
      "766              0.349   47  \n",
      "767              0.315   23  \n"
     ]
    }
   ],
   "source": [
    "print(ds.tail(5))"
   ]
  },
  {
   "cell_type": "code",
   "execution_count": 32,
   "id": "1150ef61-c097-4910-b2c8-444278e8e78f",
   "metadata": {},
   "outputs": [
    {
     "name": "stdout",
     "output_type": "stream",
     "text": [
      "Pregnant               int64\n",
      "Glucose              float64\n",
      "Diastolic_BP         float64\n",
      "Skin_Fold            float64\n",
      "Insulin              float64\n",
      "BMI                  float64\n",
      "Diabetes_Pedigree    float64\n",
      "Age                    int64\n",
      "dtype: object\n"
     ]
    }
   ],
   "source": [
    "print(ds.dtypes)"
   ]
  },
  {
   "cell_type": "code",
   "execution_count": 33,
   "id": "55df9876-5a48-4fbf-a616-aebc5ab653a6",
   "metadata": {},
   "outputs": [
    {
     "data": {
      "text/plain": [
       "Pregnant             768\n",
       "Glucose              768\n",
       "Diastolic_BP         768\n",
       "Skin_Fold            768\n",
       "Insulin              768\n",
       "BMI                  768\n",
       "Diabetes_Pedigree    768\n",
       "Age                  768\n",
       "dtype: int64"
      ]
     },
     "execution_count": 33,
     "metadata": {},
     "output_type": "execute_result"
    }
   ],
   "source": [
    "ds.count()"
   ]
  },
  {
   "cell_type": "code",
   "execution_count": 38,
   "id": "e28ff1be-7ce8-4cbe-9dd3-e5fc06106615",
   "metadata": {},
   "outputs": [
    {
     "data": {
      "text/html": [
       "<div>\n",
       "<style scoped>\n",
       "    .dataframe tbody tr th:only-of-type {\n",
       "        vertical-align: middle;\n",
       "    }\n",
       "\n",
       "    .dataframe tbody tr th {\n",
       "        vertical-align: top;\n",
       "    }\n",
       "\n",
       "    .dataframe thead th {\n",
       "        text-align: right;\n",
       "    }\n",
       "</style>\n",
       "<table border=\"1\" class=\"dataframe\">\n",
       "  <thead>\n",
       "    <tr style=\"text-align: right;\">\n",
       "      <th></th>\n",
       "      <th>Pregnant</th>\n",
       "      <th>Glucose</th>\n",
       "      <th>Diastolic_BP</th>\n",
       "      <th>Skin_Fold</th>\n",
       "      <th>Insulin</th>\n",
       "      <th>BMI</th>\n",
       "      <th>Diabetes_Pedigree</th>\n",
       "      <th>Age</th>\n",
       "    </tr>\n",
       "  </thead>\n",
       "  <tbody>\n",
       "    <tr>\n",
       "      <th>0</th>\n",
       "      <td>6</td>\n",
       "      <td>148.0</td>\n",
       "      <td>72.0</td>\n",
       "      <td>35.00000</td>\n",
       "      <td>125.0</td>\n",
       "      <td>33.6</td>\n",
       "      <td>0.627</td>\n",
       "      <td>50</td>\n",
       "    </tr>\n",
       "    <tr>\n",
       "      <th>1</th>\n",
       "      <td>1</td>\n",
       "      <td>85.0</td>\n",
       "      <td>66.0</td>\n",
       "      <td>29.00000</td>\n",
       "      <td>125.0</td>\n",
       "      <td>26.6</td>\n",
       "      <td>0.351</td>\n",
       "      <td>31</td>\n",
       "    </tr>\n",
       "    <tr>\n",
       "      <th>2</th>\n",
       "      <td>8</td>\n",
       "      <td>183.0</td>\n",
       "      <td>64.0</td>\n",
       "      <td>29.15342</td>\n",
       "      <td>125.0</td>\n",
       "      <td>23.3</td>\n",
       "      <td>0.672</td>\n",
       "      <td>32</td>\n",
       "    </tr>\n",
       "    <tr>\n",
       "      <th>3</th>\n",
       "      <td>1</td>\n",
       "      <td>89.0</td>\n",
       "      <td>66.0</td>\n",
       "      <td>23.00000</td>\n",
       "      <td>94.0</td>\n",
       "      <td>28.1</td>\n",
       "      <td>0.167</td>\n",
       "      <td>21</td>\n",
       "    </tr>\n",
       "    <tr>\n",
       "      <th>4</th>\n",
       "      <td>0</td>\n",
       "      <td>137.0</td>\n",
       "      <td>40.0</td>\n",
       "      <td>35.00000</td>\n",
       "      <td>168.0</td>\n",
       "      <td>43.1</td>\n",
       "      <td>2.288</td>\n",
       "      <td>33</td>\n",
       "    </tr>\n",
       "  </tbody>\n",
       "</table>\n",
       "</div>"
      ],
      "text/plain": [
       "   Pregnant  Glucose  Diastolic_BP  Skin_Fold  Insulin   BMI  \\\n",
       "0         6    148.0          72.0   35.00000    125.0  33.6   \n",
       "1         1     85.0          66.0   29.00000    125.0  26.6   \n",
       "2         8    183.0          64.0   29.15342    125.0  23.3   \n",
       "3         1     89.0          66.0   23.00000     94.0  28.1   \n",
       "4         0    137.0          40.0   35.00000    168.0  43.1   \n",
       "\n",
       "   Diabetes_Pedigree  Age  \n",
       "0              0.627   50  \n",
       "1              0.351   31  \n",
       "2              0.672   32  \n",
       "3              0.167   21  \n",
       "4              2.288   33  "
      ]
     },
     "execution_count": 38,
     "metadata": {},
     "output_type": "execute_result"
    }
   ],
   "source": [
    "ds=ds.drop_duplicates()\n",
    "ds.head(5)"
   ]
  },
  {
   "cell_type": "code",
   "execution_count": 41,
   "id": "0df23575-43e4-4cc5-a419-48b9daa4bd37",
   "metadata": {},
   "outputs": [
    {
     "data": {
      "image/png": "[encoded data removed]",
      "text/plain": [
       "<Figure size 1000x600 with 1 Axes>"
      ]
     },
     "metadata": {},
     "output_type": "display_data"
    }
   ],
   "source": [
    "plt.figure(figsize=(10,6))\n",
    "plt.scatter(ds['Age'],ds['Glucose'],color='Green',label='Age vs Glucose')\n",
    "plt.title('Age vs Glucose levels')\n",
    "plt.xlabel('Age')\n",
    "plt.ylabel('Glucose Levels')\n",
    "plt.legend()\n",
    "plt.show()"
   ]
  },
  {
   "cell_type": "code",
   "execution_count": 42,
   "id": "fafc246c-195b-4b3a-a164-c79bb4b1c716",
   "metadata": {},
   "outputs": [
    {
     "data": {
      "image/png": "[encoded data removed]",
      "text/plain": [
       "<Figure size 640x480 with 1 Axes>"
      ]
     },
     "metadata": {},
     "output_type": "display_data"
    }
   ],
   "source": [
    "sns.boxplot(x=ds['Age'])\n",
    "plt.title('Age Distribution')\n",
    "plt.xlabel('Age')\n",
    "plt.ylabel('Frequency')\n",
    "plt.show()"
   ]
  },
  {
   "cell_type": "code",
   "execution_count": null,
   "id": "7d3acf91-edad-4399-a2fd-081bea1ed636",
   "metadata": {},
   "outputs": [],
   "source": []
  }
 ],
 "metadata": {
  "kernelspec": {
   "display_name": "Python 3 (ipykernel)",
   "language": "python",
   "name": "python3"
  },
  "language_info": {
   "codemirror_mode": {
    "name": "ipython",
    "version": 3
   },
   "file_extension": ".py",
   "mimetype": "text/x-python",
   "name": "python",
   "nbconvert_exporter": "python",
   "pygments_lexer": "ipython3",
   "version": "3.13.0"
  }
 },
 "nbformat": 4,
 "nbformat_minor": 5
}
